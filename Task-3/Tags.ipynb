{
 "cells": [
  {
   "cell_type": "code",
   "execution_count": 4,
   "metadata": {},
   "outputs": [
    {
     "name": "stdout",
     "output_type": "stream",
     "text": [
      "{'Id': '1', 'TagName': '.net', 'Count': '293379', 'ExcerptPostId': '3624959', 'WikiPostId': '3607476'}\n"
     ]
    }
   ],
   "source": [
    "import xml.etree.ElementTree as ET\n",
    "import matplotlib.pyplot as plt\n",
    "\n",
    "\n",
    "\n",
    "mytree = ET.parse('Tags.xml')\n",
    "myroot = mytree.getroot()\n",
    "\n",
    "#mongodb+srv://naman:<password>@cluster0.mj77w.mongodb.net/<dbname>?retryWrites=true&w=majority\n",
    "import pymongo\n",
    "client = pymongo.MongoClient(\"mongodb://127.0.0.1:27017\")\n",
    "\n",
    "mydb = client[\"tags\"]\n",
    "mycol = mydb[\"row\"]\n",
    "\n",
    "for x in myroot.findall('row'):\n",
    "    my_dic = {}\n",
    "    try:\n",
    "        Id = x.attrib['Id']\n",
    "        my_dic[\"Id\"] = Id\n",
    "    except:\n",
    "        Id = -1\n",
    "    try :\n",
    "        TagName = x.attrib['TagName']\n",
    "        my_dic[\"TagName\"] = TagName\n",
    "    except:\n",
    "        TagName = -1\n",
    "    try:\n",
    "        Count = x.attrib['Count']\n",
    "        my_dic[\"Count\"] = Count\n",
    "    except:\n",
    "        Count = - 1\n",
    "    try:\n",
    "        Excerpt = x.attrib['ExcerptPostId']\n",
    "        mydic[\"ExcerptPostId\"] = Excerpt\n",
    "    except:\n",
    "        Excerpt = -1\n",
    "    try:\n",
    "        WikiPostId = x.attrib['WikiPostId']\n",
    "        my_dic[\"WikiPostId\"] = WikiPostId\n",
    "    except:\n",
    "        WikiPostId = -1\n",
    "    ll = mycol.insert_one(my_dic)\n",
    "    \n",
    "print(myroot[0].attrib)\n",
    "cnt = 0\n"
   ]
  },
  {
   "cell_type": "code",
   "execution_count": 5,
   "metadata": {},
   "outputs": [
    {
     "name": "stdout",
     "output_type": "stream",
     "text": [
      "['admin', 'config', 'dbname', 'local', 'tags']\n"
     ]
    }
   ],
   "source": [
    "#data saved to Mongo Database\n",
    "print(client.list_database_names())"
   ]
  },
  {
   "cell_type": "code",
   "execution_count": null,
   "metadata": {},
   "outputs": [],
   "source": []
  }
 ],
 "metadata": {
  "kernelspec": {
   "display_name": "Python 3",
   "language": "python",
   "name": "python3"
  },
  "language_info": {
   "codemirror_mode": {
    "name": "ipython",
    "version": 3
   },
   "file_extension": ".py",
   "mimetype": "text/x-python",
   "name": "python",
   "nbconvert_exporter": "python",
   "pygments_lexer": "ipython3",
   "version": "3.8.5"
  }
 },
 "nbformat": 4,
 "nbformat_minor": 4
}
